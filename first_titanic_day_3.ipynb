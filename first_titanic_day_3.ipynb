{
 "cells": [
  {
   "cell_type": "code",
   "execution_count": 1,
   "id": "92deb987",
   "metadata": {
    "_cell_guid": "b1076dfc-b9ad-4769-8c92-a6c4dae69d19",
    "_uuid": "8f2839f25d086af736a60e9eeb907d3b93b6e0e5",
    "execution": {
     "iopub.execute_input": "2022-05-14T16:38:00.179593Z",
     "iopub.status.busy": "2022-05-14T16:38:00.178577Z",
     "iopub.status.idle": "2022-05-14T16:38:01.347782Z",
     "shell.execute_reply": "2022-05-14T16:38:01.346774Z"
    },
    "papermill": {
     "duration": 1.20393,
     "end_time": "2022-05-14T16:38:01.350393",
     "exception": false,
     "start_time": "2022-05-14T16:38:00.146463",
     "status": "completed"
    },
    "tags": []
   },
   "outputs": [],
   "source": [
    "import numpy as np\n",
    "import pandas as pd\n",
    "import matplotlib.pyplot as plt\n",
    "import seaborn as sns\n",
    "\n",
    "\n",
    "plt.style.use('seaborn')\n",
    "sns.set(font_scale=2.5)\n",
    "\n",
    "import missingno as msno\n",
    "\n",
    "import warnings\n",
    "warnings.filterwarnings('ignore')\n",
    "\n",
    "%matplotlib inline"
   ]
  },
  {
   "cell_type": "code",
   "execution_count": 2,
   "id": "02318ac3",
   "metadata": {
    "execution": {
     "iopub.execute_input": "2022-05-14T16:38:01.410549Z",
     "iopub.status.busy": "2022-05-14T16:38:01.410283Z",
     "iopub.status.idle": "2022-05-14T16:38:01.439098Z",
     "shell.execute_reply": "2022-05-14T16:38:01.438121Z"
    },
    "papermill": {
     "duration": 0.061529,
     "end_time": "2022-05-14T16:38:01.441475",
     "exception": false,
     "start_time": "2022-05-14T16:38:01.379946",
     "status": "completed"
    },
    "tags": []
   },
   "outputs": [],
   "source": [
    "df_train = pd.read_csv('../input/titanic/train.csv')\n",
    "df_test = pd.read_csv('../input/titanic/test.csv')"
   ]
  },
  {
   "cell_type": "code",
   "execution_count": 3,
   "id": "6307ce9e",
   "metadata": {
    "execution": {
     "iopub.execute_input": "2022-05-14T16:38:01.502766Z",
     "iopub.status.busy": "2022-05-14T16:38:01.502488Z",
     "iopub.status.idle": "2022-05-14T16:38:01.527677Z",
     "shell.execute_reply": "2022-05-14T16:38:01.527010Z"
    },
    "papermill": {
     "duration": 0.058903,
     "end_time": "2022-05-14T16:38:01.530135",
     "exception": false,
     "start_time": "2022-05-14T16:38:01.471232",
     "status": "completed"
    },
    "tags": []
   },
   "outputs": [
    {
     "data": {
      "text/html": [
       "<div>\n",
       "<style scoped>\n",
       "    .dataframe tbody tr th:only-of-type {\n",
       "        vertical-align: middle;\n",
       "    }\n",
       "\n",
       "    .dataframe tbody tr th {\n",
       "        vertical-align: top;\n",
       "    }\n",
       "\n",
       "    .dataframe thead th {\n",
       "        text-align: right;\n",
       "    }\n",
       "</style>\n",
       "<table border=\"1\" class=\"dataframe\">\n",
       "  <thead>\n",
       "    <tr style=\"text-align: right;\">\n",
       "      <th></th>\n",
       "      <th>PassengerId</th>\n",
       "      <th>Survived</th>\n",
       "      <th>Pclass</th>\n",
       "      <th>Name</th>\n",
       "      <th>Sex</th>\n",
       "      <th>Age</th>\n",
       "      <th>SibSp</th>\n",
       "      <th>Parch</th>\n",
       "      <th>Ticket</th>\n",
       "      <th>Fare</th>\n",
       "      <th>Cabin</th>\n",
       "      <th>Embarked</th>\n",
       "    </tr>\n",
       "  </thead>\n",
       "  <tbody>\n",
       "    <tr>\n",
       "      <th>0</th>\n",
       "      <td>1</td>\n",
       "      <td>0</td>\n",
       "      <td>3</td>\n",
       "      <td>Braund, Mr. Owen Harris</td>\n",
       "      <td>male</td>\n",
       "      <td>22.0</td>\n",
       "      <td>1</td>\n",
       "      <td>0</td>\n",
       "      <td>A/5 21171</td>\n",
       "      <td>7.2500</td>\n",
       "      <td>NaN</td>\n",
       "      <td>S</td>\n",
       "    </tr>\n",
       "    <tr>\n",
       "      <th>1</th>\n",
       "      <td>2</td>\n",
       "      <td>1</td>\n",
       "      <td>1</td>\n",
       "      <td>Cumings, Mrs. John Bradley (Florence Briggs Th...</td>\n",
       "      <td>female</td>\n",
       "      <td>38.0</td>\n",
       "      <td>1</td>\n",
       "      <td>0</td>\n",
       "      <td>PC 17599</td>\n",
       "      <td>71.2833</td>\n",
       "      <td>C85</td>\n",
       "      <td>C</td>\n",
       "    </tr>\n",
       "    <tr>\n",
       "      <th>2</th>\n",
       "      <td>3</td>\n",
       "      <td>1</td>\n",
       "      <td>3</td>\n",
       "      <td>Heikkinen, Miss. Laina</td>\n",
       "      <td>female</td>\n",
       "      <td>26.0</td>\n",
       "      <td>0</td>\n",
       "      <td>0</td>\n",
       "      <td>STON/O2. 3101282</td>\n",
       "      <td>7.9250</td>\n",
       "      <td>NaN</td>\n",
       "      <td>S</td>\n",
       "    </tr>\n",
       "    <tr>\n",
       "      <th>3</th>\n",
       "      <td>4</td>\n",
       "      <td>1</td>\n",
       "      <td>1</td>\n",
       "      <td>Futrelle, Mrs. Jacques Heath (Lily May Peel)</td>\n",
       "      <td>female</td>\n",
       "      <td>35.0</td>\n",
       "      <td>1</td>\n",
       "      <td>0</td>\n",
       "      <td>113803</td>\n",
       "      <td>53.1000</td>\n",
       "      <td>C123</td>\n",
       "      <td>S</td>\n",
       "    </tr>\n",
       "    <tr>\n",
       "      <th>4</th>\n",
       "      <td>5</td>\n",
       "      <td>0</td>\n",
       "      <td>3</td>\n",
       "      <td>Allen, Mr. William Henry</td>\n",
       "      <td>male</td>\n",
       "      <td>35.0</td>\n",
       "      <td>0</td>\n",
       "      <td>0</td>\n",
       "      <td>373450</td>\n",
       "      <td>8.0500</td>\n",
       "      <td>NaN</td>\n",
       "      <td>S</td>\n",
       "    </tr>\n",
       "    <tr>\n",
       "      <th>5</th>\n",
       "      <td>6</td>\n",
       "      <td>0</td>\n",
       "      <td>3</td>\n",
       "      <td>Moran, Mr. James</td>\n",
       "      <td>male</td>\n",
       "      <td>NaN</td>\n",
       "      <td>0</td>\n",
       "      <td>0</td>\n",
       "      <td>330877</td>\n",
       "      <td>8.4583</td>\n",
       "      <td>NaN</td>\n",
       "      <td>Q</td>\n",
       "    </tr>\n",
       "    <tr>\n",
       "      <th>6</th>\n",
       "      <td>7</td>\n",
       "      <td>0</td>\n",
       "      <td>1</td>\n",
       "      <td>McCarthy, Mr. Timothy J</td>\n",
       "      <td>male</td>\n",
       "      <td>54.0</td>\n",
       "      <td>0</td>\n",
       "      <td>0</td>\n",
       "      <td>17463</td>\n",
       "      <td>51.8625</td>\n",
       "      <td>E46</td>\n",
       "      <td>S</td>\n",
       "    </tr>\n",
       "    <tr>\n",
       "      <th>7</th>\n",
       "      <td>8</td>\n",
       "      <td>0</td>\n",
       "      <td>3</td>\n",
       "      <td>Palsson, Master. Gosta Leonard</td>\n",
       "      <td>male</td>\n",
       "      <td>2.0</td>\n",
       "      <td>3</td>\n",
       "      <td>1</td>\n",
       "      <td>349909</td>\n",
       "      <td>21.0750</td>\n",
       "      <td>NaN</td>\n",
       "      <td>S</td>\n",
       "    </tr>\n",
       "    <tr>\n",
       "      <th>8</th>\n",
       "      <td>9</td>\n",
       "      <td>1</td>\n",
       "      <td>3</td>\n",
       "      <td>Johnson, Mrs. Oscar W (Elisabeth Vilhelmina Berg)</td>\n",
       "      <td>female</td>\n",
       "      <td>27.0</td>\n",
       "      <td>0</td>\n",
       "      <td>2</td>\n",
       "      <td>347742</td>\n",
       "      <td>11.1333</td>\n",
       "      <td>NaN</td>\n",
       "      <td>S</td>\n",
       "    </tr>\n",
       "    <tr>\n",
       "      <th>9</th>\n",
       "      <td>10</td>\n",
       "      <td>1</td>\n",
       "      <td>2</td>\n",
       "      <td>Nasser, Mrs. Nicholas (Adele Achem)</td>\n",
       "      <td>female</td>\n",
       "      <td>14.0</td>\n",
       "      <td>1</td>\n",
       "      <td>0</td>\n",
       "      <td>237736</td>\n",
       "      <td>30.0708</td>\n",
       "      <td>NaN</td>\n",
       "      <td>C</td>\n",
       "    </tr>\n",
       "  </tbody>\n",
       "</table>\n",
       "</div>"
      ],
      "text/plain": [
       "   PassengerId  Survived  Pclass  \\\n",
       "0            1         0       3   \n",
       "1            2         1       1   \n",
       "2            3         1       3   \n",
       "3            4         1       1   \n",
       "4            5         0       3   \n",
       "5            6         0       3   \n",
       "6            7         0       1   \n",
       "7            8         0       3   \n",
       "8            9         1       3   \n",
       "9           10         1       2   \n",
       "\n",
       "                                                Name     Sex   Age  SibSp  \\\n",
       "0                            Braund, Mr. Owen Harris    male  22.0      1   \n",
       "1  Cumings, Mrs. John Bradley (Florence Briggs Th...  female  38.0      1   \n",
       "2                             Heikkinen, Miss. Laina  female  26.0      0   \n",
       "3       Futrelle, Mrs. Jacques Heath (Lily May Peel)  female  35.0      1   \n",
       "4                           Allen, Mr. William Henry    male  35.0      0   \n",
       "5                                   Moran, Mr. James    male   NaN      0   \n",
       "6                            McCarthy, Mr. Timothy J    male  54.0      0   \n",
       "7                     Palsson, Master. Gosta Leonard    male   2.0      3   \n",
       "8  Johnson, Mrs. Oscar W (Elisabeth Vilhelmina Berg)  female  27.0      0   \n",
       "9                Nasser, Mrs. Nicholas (Adele Achem)  female  14.0      1   \n",
       "\n",
       "   Parch            Ticket     Fare Cabin Embarked  \n",
       "0      0         A/5 21171   7.2500   NaN        S  \n",
       "1      0          PC 17599  71.2833   C85        C  \n",
       "2      0  STON/O2. 3101282   7.9250   NaN        S  \n",
       "3      0            113803  53.1000  C123        S  \n",
       "4      0            373450   8.0500   NaN        S  \n",
       "5      0            330877   8.4583   NaN        Q  \n",
       "6      0             17463  51.8625   E46        S  \n",
       "7      1            349909  21.0750   NaN        S  \n",
       "8      2            347742  11.1333   NaN        S  \n",
       "9      0            237736  30.0708   NaN        C  "
      ]
     },
     "execution_count": 3,
     "metadata": {},
     "output_type": "execute_result"
    }
   ],
   "source": [
    "df_train.head(10)"
   ]
  },
  {
   "cell_type": "code",
   "execution_count": 4,
   "id": "b4fc1c63",
   "metadata": {
    "execution": {
     "iopub.execute_input": "2022-05-14T16:38:01.593141Z",
     "iopub.status.busy": "2022-05-14T16:38:01.592803Z",
     "iopub.status.idle": "2022-05-14T16:38:01.608195Z",
     "shell.execute_reply": "2022-05-14T16:38:01.607018Z"
    },
    "papermill": {
     "duration": 0.049819,
     "end_time": "2022-05-14T16:38:01.610525",
     "exception": false,
     "start_time": "2022-05-14T16:38:01.560706",
     "status": "completed"
    },
    "tags": []
   },
   "outputs": [
    {
     "name": "stdout",
     "output_type": "stream",
     "text": [
      "column: PassengerId\t Percent of NaN  0.00%\n",
      "column:   Survived\t Percent of NaN  0.00%\n",
      "column:     Pclass\t Percent of NaN  0.00%\n",
      "column:       Name\t Percent of NaN  0.00%\n",
      "column:        Sex\t Percent of NaN  0.00%\n",
      "column:        Age\t Percent of NaN  19.87%\n",
      "column:      SibSp\t Percent of NaN  0.00%\n",
      "column:      Parch\t Percent of NaN  0.00%\n",
      "column:     Ticket\t Percent of NaN  0.00%\n",
      "column:       Fare\t Percent of NaN  0.00%\n",
      "column:      Cabin\t Percent of NaN  77.10%\n",
      "column:   Embarked\t Percent of NaN  0.22%\n"
     ]
    }
   ],
   "source": [
    "for col in df_train.columns:\n",
    "    print('column: {:>10}\\t Percent of NaN {: .2f}%'.format(col, 100 * (df_train[col].isnull().sum() / df_train[col].shape[0])))"
   ]
  },
  {
   "cell_type": "code",
   "execution_count": 5,
   "id": "3ead8284",
   "metadata": {
    "execution": {
     "iopub.execute_input": "2022-05-14T16:38:01.674699Z",
     "iopub.status.busy": "2022-05-14T16:38:01.674077Z",
     "iopub.status.idle": "2022-05-14T16:38:01.686121Z",
     "shell.execute_reply": "2022-05-14T16:38:01.684426Z"
    },
    "papermill": {
     "duration": 0.045989,
     "end_time": "2022-05-14T16:38:01.688331",
     "exception": false,
     "start_time": "2022-05-14T16:38:01.642342",
     "status": "completed"
    },
    "tags": []
   },
   "outputs": [
    {
     "name": "stdout",
     "output_type": "stream",
     "text": [
      "column: PassengerId\t Percent of NaN  0.00%\n",
      "column:     Pclass\t Percent of NaN  0.00%\n",
      "column:       Name\t Percent of NaN  0.00%\n",
      "column:        Sex\t Percent of NaN  0.00%\n",
      "column:        Age\t Percent of NaN  20.57%\n",
      "column:      SibSp\t Percent of NaN  0.00%\n",
      "column:      Parch\t Percent of NaN  0.00%\n",
      "column:     Ticket\t Percent of NaN  0.00%\n",
      "column:       Fare\t Percent of NaN  0.24%\n",
      "column:      Cabin\t Percent of NaN  78.23%\n",
      "column:   Embarked\t Percent of NaN  0.00%\n"
     ]
    }
   ],
   "source": [
    "for col in df_test.columns:\n",
    "    print('column: {:>10}\\t Percent of NaN {: .2f}%'.format(col, 100 * (df_test[col].isnull().sum() / df_test[col].shape[0])))"
   ]
  },
  {
   "cell_type": "code",
   "execution_count": 6,
   "id": "74d3417a",
   "metadata": {
    "execution": {
     "iopub.execute_input": "2022-05-14T16:38:01.753432Z",
     "iopub.status.busy": "2022-05-14T16:38:01.752993Z",
     "iopub.status.idle": "2022-05-14T16:38:02.150956Z",
     "shell.execute_reply": "2022-05-14T16:38:02.150106Z"
    },
    "papermill": {
     "duration": 0.433747,
     "end_time": "2022-05-14T16:38:02.153595",
     "exception": false,
     "start_time": "2022-05-14T16:38:01.719848",
     "status": "completed"
    },
    "tags": []
   },
   "outputs": [
    {
     "data": {
      "text/plain": [
       "<AxesSubplot:>"
      ]
     },
     "execution_count": 6,
     "metadata": {},
     "output_type": "execute_result"
    },
    {
     "data": {
      "image/png": "[encoded data removed]",
      "text/plain": [
       "<Figure size 576x576 with 2 Axes>"
      ]
     },
     "metadata": {
      "needs_background": "light"
     },
     "output_type": "display_data"
    }
   ],
   "source": [
    "msno.matrix(df=df_train.iloc[:, :], figsize=(8, 8), color=(0.8, 0.5, 0.2))"
   ]
  },
  {
   "cell_type": "code",
   "execution_count": 7,
   "id": "a547028d",
   "metadata": {
    "execution": {
     "iopub.execute_input": "2022-05-14T16:38:02.223103Z",
     "iopub.status.busy": "2022-05-14T16:38:02.222594Z",
     "iopub.status.idle": "2022-05-14T16:38:03.095752Z",
     "shell.execute_reply": "2022-05-14T16:38:03.094846Z"
    },
    "papermill": {
     "duration": 0.910041,
     "end_time": "2022-05-14T16:38:03.098621",
     "exception": false,
     "start_time": "2022-05-14T16:38:02.188580",
     "status": "completed"
    },
    "tags": []
   },
   "outputs": [
    {
     "data": {
      "text/plain": [
       "<AxesSubplot:>"
      ]
     },
     "execution_count": 7,
     "metadata": {},
     "output_type": "execute_result"
    },
    {
     "data": {
      "image/png": "[encoded data removed]",
      "text/plain": [
       "<Figure size 576x576 with 3 Axes>"
      ]
     },
     "metadata": {
      "needs_background": "light"
     },
     "output_type": "display_data"
    }
   ],
   "source": [
    "msno.bar(df=df_train.iloc[:, :], figsize=(8, 8), color=(0.8, 0.5, 0.2))"
   ]
  },
  {
   "cell_type": "code",
   "execution_count": 8,
   "id": "a26c3824",
   "metadata": {
    "execution": {
     "iopub.execute_input": "2022-05-14T16:38:03.181550Z",
     "iopub.status.busy": "2022-05-14T16:38:03.181275Z",
     "iopub.status.idle": "2022-05-14T16:38:03.491127Z",
     "shell.execute_reply": "2022-05-14T16:38:03.490122Z"
    },
    "papermill": {
     "duration": 0.348279,
     "end_time": "2022-05-14T16:38:03.493444",
     "exception": false,
     "start_time": "2022-05-14T16:38:03.145165",
     "status": "completed"
    },
    "tags": []
   },
   "outputs": [
    {
     "data": {
      "text/plain": [
       "<function matplotlib.pyplot.show(close=None, block=None)>"
      ]
     },
     "execution_count": 8,
     "metadata": {},
     "output_type": "execute_result"
    },
    {
     "data": {
      "image/png": "[encoded data removed]",
      "text/plain": [
       "<Figure size 1296x576 with 2 Axes>"
      ]
     },
     "metadata": {
      "needs_background": "light"
     },
     "output_type": "display_data"
    }
   ],
   "source": [
    "f, ax = plt.subplots(1, 2, figsize=(18, 8))#1개의 행에 2개의 그림 사이즈는 가로 18, 높이 8\n",
    "\n",
    "df_train['Survived'].value_counts().plot.pie(explode=[0, 0.1], autopct='%1.1f%%', ax=ax[0], shadow=True)\n",
    "ax[0].set_title('Pie plot - Suvived')\n",
    "ax[0].set_ylabel('') #<- 다른거 추가하면 y축에 인자값이 출력됨.\n",
    "sns.countplot('Survived', data=df_train, ax=ax[1]) #dataframe객체를 넣어주기전에 지정할 colume을 넣어준다.\n",
    "plt.show"
   ]
  },
  {
   "cell_type": "markdown",
   "id": "8b589838",
   "metadata": {
    "execution": {
     "iopub.execute_input": "2022-05-13T12:35:42.574566Z",
     "iopub.status.busy": "2022-05-13T12:35:42.574066Z",
     "iopub.status.idle": "2022-05-13T12:35:42.58064Z",
     "shell.execute_reply": "2022-05-13T12:35:42.579701Z",
     "shell.execute_reply.started": "2022-05-13T12:35:42.574526Z"
    },
    "papermill": {
     "duration": 0.037146,
     "end_time": "2022-05-14T16:38:03.569337",
     "exception": false,
     "start_time": "2022-05-14T16:38:03.532191",
     "status": "completed"
    },
    "tags": []
   },
   "source": []
  },
  {
   "cell_type": "code",
   "execution_count": 9,
   "id": "6c5536f7",
   "metadata": {
    "execution": {
     "iopub.execute_input": "2022-05-14T16:38:03.646289Z",
     "iopub.status.busy": "2022-05-14T16:38:03.645583Z",
     "iopub.status.idle": "2022-05-14T16:38:03.653452Z",
     "shell.execute_reply": "2022-05-14T16:38:03.652609Z"
    },
    "papermill": {
     "duration": 0.048479,
     "end_time": "2022-05-14T16:38:03.655627",
     "exception": false,
     "start_time": "2022-05-14T16:38:03.607148",
     "status": "completed"
    },
    "tags": []
   },
   "outputs": [
    {
     "data": {
      "text/plain": [
       "0    549\n",
       "1    342\n",
       "Name: Survived, dtype: int64"
      ]
     },
     "execution_count": 9,
     "metadata": {},
     "output_type": "execute_result"
    }
   ],
   "source": [
    "df_train['Survived'].value_counts()"
   ]
  },
  {
   "cell_type": "code",
   "execution_count": 10,
   "id": "bab580c3",
   "metadata": {
    "execution": {
     "iopub.execute_input": "2022-05-14T16:38:03.732937Z",
     "iopub.status.busy": "2022-05-14T16:38:03.732460Z",
     "iopub.status.idle": "2022-05-14T16:38:03.738969Z",
     "shell.execute_reply": "2022-05-14T16:38:03.738110Z"
    },
    "papermill": {
     "duration": 0.048494,
     "end_time": "2022-05-14T16:38:03.741724",
     "exception": false,
     "start_time": "2022-05-14T16:38:03.693230",
     "status": "completed"
    },
    "tags": []
   },
   "outputs": [
    {
     "name": "stdout",
     "output_type": "stream",
     "text": [
      "당연히 Series 형<class 'pandas.core.series.Series'>\n"
     ]
    }
   ],
   "source": [
    "a = '당연히 Series 형' + str(type(df_train['Survived'].value_counts()))\n",
    "print(a)"
   ]
  },
  {
   "cell_type": "code",
   "execution_count": 11,
   "id": "65b0e844",
   "metadata": {
    "execution": {
     "iopub.execute_input": "2022-05-14T16:38:03.819947Z",
     "iopub.status.busy": "2022-05-14T16:38:03.819639Z",
     "iopub.status.idle": "2022-05-14T16:38:04.025994Z",
     "shell.execute_reply": "2022-05-14T16:38:04.025130Z"
    },
    "papermill": {
     "duration": 0.248145,
     "end_time": "2022-05-14T16:38:04.028161",
     "exception": false,
     "start_time": "2022-05-14T16:38:03.780016",
     "status": "completed"
    },
    "tags": []
   },
   "outputs": [
    {
     "data": {
      "text/plain": [
       "<AxesSubplot:>"
      ]
     },
     "execution_count": 11,
     "metadata": {},
     "output_type": "execute_result"
    },
    {
     "data": {
      "image/png": "[encoded data removed]",
      "text/plain": [
       "<Figure size 432x288 with 1 Axes>"
      ]
     },
     "metadata": {
      "needs_background": "light"
     },
     "output_type": "display_data"
    }
   ],
   "source": [
    "#series 여러개가 묶인거는 DataFrme\n",
    "df_train['Survived'].value_counts().plot() #series객체는 plot()을 지원한다."
   ]
  },
  {
   "cell_type": "code",
   "execution_count": 12,
   "id": "13685cb3",
   "metadata": {
    "execution": {
     "iopub.execute_input": "2022-05-14T16:38:04.111059Z",
     "iopub.status.busy": "2022-05-14T16:38:04.110558Z",
     "iopub.status.idle": "2022-05-14T16:38:04.297055Z",
     "shell.execute_reply": "2022-05-14T16:38:04.296108Z"
    },
    "papermill": {
     "duration": 0.230453,
     "end_time": "2022-05-14T16:38:04.299122",
     "exception": false,
     "start_time": "2022-05-14T16:38:04.068669",
     "status": "completed"
    },
    "tags": []
   },
   "outputs": [
    {
     "data": {
      "text/plain": [
       "[<matplotlib.lines.Line2D at 0x7fac5c2ad550>]"
      ]
     },
     "execution_count": 12,
     "metadata": {},
     "output_type": "execute_result"
    },
    {
     "data": {
      "image/png": "[encoded data removed]",
      "text/plain": [
       "<Figure size 432x288 with 1 Axes>"
      ]
     },
     "metadata": {
      "needs_background": "light"
     },
     "output_type": "display_data"
    }
   ],
   "source": [
    "plt.plot(df_train['Survived'].value_counts()) #위와 같다."
   ]
  },
  {
   "cell_type": "code",
   "execution_count": 13,
   "id": "fffa542f",
   "metadata": {
    "execution": {
     "iopub.execute_input": "2022-05-14T16:38:04.384557Z",
     "iopub.status.busy": "2022-05-14T16:38:04.383788Z",
     "iopub.status.idle": "2022-05-14T16:38:04.474971Z",
     "shell.execute_reply": "2022-05-14T16:38:04.473948Z"
    },
    "papermill": {
     "duration": 0.13726,
     "end_time": "2022-05-14T16:38:04.478524",
     "exception": false,
     "start_time": "2022-05-14T16:38:04.341264",
     "status": "completed"
    },
    "tags": []
   },
   "outputs": [
    {
     "data": {
      "text/plain": [
       "<AxesSubplot:ylabel='Survived'>"
      ]
     },
     "execution_count": 13,
     "metadata": {},
     "output_type": "execute_result"
    },
    {
     "data": {
      "image/png": "[encoded data removed]",
      "text/plain": [
       "<Figure size 432x288 with 1 Axes>"
      ]
     },
     "metadata": {},
     "output_type": "display_data"
    }
   ],
   "source": [
    "df_train['Survived'].value_counts().plot.pie()"
   ]
  },
  {
   "cell_type": "code",
   "execution_count": 14,
   "id": "1812b652",
   "metadata": {
    "execution": {
     "iopub.execute_input": "2022-05-14T16:38:04.608446Z",
     "iopub.status.busy": "2022-05-14T16:38:04.607896Z",
     "iopub.status.idle": "2022-05-14T16:38:04.691616Z",
     "shell.execute_reply": "2022-05-14T16:38:04.690716Z"
    },
    "papermill": {
     "duration": 0.134239,
     "end_time": "2022-05-14T16:38:04.694654",
     "exception": false,
     "start_time": "2022-05-14T16:38:04.560415",
     "status": "completed"
    },
    "tags": []
   },
   "outputs": [
    {
     "data": {
      "text/plain": [
       "<AxesSubplot:ylabel='Survived'>"
      ]
     },
     "execution_count": 14,
     "metadata": {},
     "output_type": "execute_result"
    },
    {
     "data": {
      "image/png": "[encoded data removed]",
      "text/plain": [
       "<Figure size 432x288 with 1 Axes>"
      ]
     },
     "metadata": {},
     "output_type": "display_data"
    }
   ],
   "source": [
    "df_train['Survived'].value_counts().plot.pie(explode=[0, 0.1])"
   ]
  },
  {
   "cell_type": "code",
   "execution_count": 15,
   "id": "c1a7e27d",
   "metadata": {
    "execution": {
     "iopub.execute_input": "2022-05-14T16:38:04.830054Z",
     "iopub.status.busy": "2022-05-14T16:38:04.829510Z",
     "iopub.status.idle": "2022-05-14T16:38:04.848015Z",
     "shell.execute_reply": "2022-05-14T16:38:04.847153Z"
    },
    "papermill": {
     "duration": 0.069994,
     "end_time": "2022-05-14T16:38:04.850207",
     "exception": false,
     "start_time": "2022-05-14T16:38:04.780213",
     "status": "completed"
    },
    "tags": []
   },
   "outputs": [
    {
     "data": {
      "text/plain": [
       "<AxesSubplot:title={'center':'Pie plot - Suvived'}, ylabel='Survived'>"
      ]
     },
     "execution_count": 15,
     "metadata": {},
     "output_type": "execute_result"
    }
   ],
   "source": [
    "df_train['Survived'].value_counts().plot.pie(explode=[0, 0.1], autopct='%1.1f%%', ax=ax[0], shadow=True)"
   ]
  },
  {
   "cell_type": "code",
   "execution_count": 16,
   "id": "6f5d040d",
   "metadata": {
    "execution": {
     "iopub.execute_input": "2022-05-14T16:38:04.940007Z",
     "iopub.status.busy": "2022-05-14T16:38:04.939658Z",
     "iopub.status.idle": "2022-05-14T16:38:04.945739Z",
     "shell.execute_reply": "2022-05-14T16:38:04.944968Z"
    },
    "papermill": {
     "duration": 0.053893,
     "end_time": "2022-05-14T16:38:04.948063",
     "exception": false,
     "start_time": "2022-05-14T16:38:04.894170",
     "status": "completed"
    },
    "tags": []
   },
   "outputs": [
    {
     "data": {
      "text/plain": [
       "array([<AxesSubplot:title={'center':'Pie plot - Suvived'}, ylabel='Survived'>,\n",
       "       <AxesSubplot:xlabel='Survived', ylabel='count'>], dtype=object)"
      ]
     },
     "execution_count": 16,
     "metadata": {},
     "output_type": "execute_result"
    }
   ],
   "source": [
    "ax#ax는 방금전 f, ax = plt.subplots(1, 2, ..) <- 2개로 선언을 했기에 2개이다. [0] , [1]"
   ]
  },
  {
   "cell_type": "code",
   "execution_count": 17,
   "id": "ac1126f3",
   "metadata": {
    "execution": {
     "iopub.execute_input": "2022-05-14T16:38:05.040984Z",
     "iopub.status.busy": "2022-05-14T16:38:05.040437Z",
     "iopub.status.idle": "2022-05-14T16:38:05.152632Z",
     "shell.execute_reply": "2022-05-14T16:38:05.151746Z"
    },
    "papermill": {
     "duration": 0.160949,
     "end_time": "2022-05-14T16:38:05.155755",
     "exception": false,
     "start_time": "2022-05-14T16:38:04.994806",
     "status": "completed"
    },
    "tags": []
   },
   "outputs": [
    {
     "data": {
      "text/plain": [
       "<AxesSubplot:ylabel='Survived'>"
      ]
     },
     "execution_count": 17,
     "metadata": {},
     "output_type": "execute_result"
    },
    {
     "data": {
      "image/png": "[encoded data removed]",
      "text/plain": [
       "<Figure size 432x288 with 1 Axes>"
      ]
     },
     "metadata": {},
     "output_type": "display_data"
    }
   ],
   "source": [
    "df_train['Survived'].value_counts().plot.pie(explode=[0, 0.1], autopct='%1.1f%%', shadow=True) #ax=ax[0]의 위치에 , shadow 그림자"
   ]
  },
  {
   "cell_type": "code",
   "execution_count": 18,
   "id": "eb3c804b",
   "metadata": {
    "execution": {
     "iopub.execute_input": "2022-05-14T16:38:05.288767Z",
     "iopub.status.busy": "2022-05-14T16:38:05.288512Z",
     "iopub.status.idle": "2022-05-14T16:38:05.294132Z",
     "shell.execute_reply": "2022-05-14T16:38:05.293462Z"
    },
    "papermill": {
     "duration": 0.054574,
     "end_time": "2022-05-14T16:38:05.295965",
     "exception": false,
     "start_time": "2022-05-14T16:38:05.241391",
     "status": "completed"
    },
    "tags": []
   },
   "outputs": [
    {
     "data": {
      "text/plain": [
       "(891, 12)"
      ]
     },
     "execution_count": 18,
     "metadata": {},
     "output_type": "execute_result"
    }
   ],
   "source": [
    "df_train.shape #이제부터 해당 11개의 특성들이 어떤 상관관계가 존재하는지 알아보기"
   ]
  },
  {
   "cell_type": "code",
   "execution_count": null,
   "id": "3bb2e1bf",
   "metadata": {
    "papermill": {
     "duration": 0.045752,
     "end_time": "2022-05-14T16:38:05.387782",
     "exception": false,
     "start_time": "2022-05-14T16:38:05.342030",
     "status": "completed"
    },
    "tags": []
   },
   "outputs": [],
   "source": []
  },
  {
   "cell_type": "markdown",
   "id": "9f7f2556",
   "metadata": {
    "papermill": {
     "duration": 0.046422,
     "end_time": "2022-05-14T16:38:05.480162",
     "exception": false,
     "start_time": "2022-05-14T16:38:05.433740",
     "status": "completed"
    },
    "tags": []
   },
   "source": [
    "# **> #Pclass**"
   ]
  },
  {
   "cell_type": "code",
   "execution_count": 19,
   "id": "c98d0d10",
   "metadata": {
    "execution": {
     "iopub.execute_input": "2022-05-14T16:38:05.575454Z",
     "iopub.status.busy": "2022-05-14T16:38:05.575001Z",
     "iopub.status.idle": "2022-05-14T16:38:05.585201Z",
     "shell.execute_reply": "2022-05-14T16:38:05.584593Z"
    },
    "papermill": {
     "duration": 0.060142,
     "end_time": "2022-05-14T16:38:05.586969",
     "exception": false,
     "start_time": "2022-05-14T16:38:05.526827",
     "status": "completed"
    },
    "tags": []
   },
   "outputs": [
    {
     "data": {
      "text/html": [
       "<div>\n",
       "<style scoped>\n",
       "    .dataframe tbody tr th:only-of-type {\n",
       "        vertical-align: middle;\n",
       "    }\n",
       "\n",
       "    .dataframe tbody tr th {\n",
       "        vertical-align: top;\n",
       "    }\n",
       "\n",
       "    .dataframe thead th {\n",
       "        text-align: right;\n",
       "    }\n",
       "</style>\n",
       "<table border=\"1\" class=\"dataframe\">\n",
       "  <thead>\n",
       "    <tr style=\"text-align: right;\">\n",
       "      <th></th>\n",
       "      <th>Survived</th>\n",
       "    </tr>\n",
       "    <tr>\n",
       "      <th>Pclass</th>\n",
       "      <th></th>\n",
       "    </tr>\n",
       "  </thead>\n",
       "  <tbody>\n",
       "    <tr>\n",
       "      <th>1</th>\n",
       "      <td>216</td>\n",
       "    </tr>\n",
       "    <tr>\n",
       "      <th>2</th>\n",
       "      <td>184</td>\n",
       "    </tr>\n",
       "    <tr>\n",
       "      <th>3</th>\n",
       "      <td>491</td>\n",
       "    </tr>\n",
       "  </tbody>\n",
       "</table>\n",
       "</div>"
      ],
      "text/plain": [
       "        Survived\n",
       "Pclass          \n",
       "1            216\n",
       "2            184\n",
       "3            491"
      ]
     },
     "execution_count": 19,
     "metadata": {},
     "output_type": "execute_result"
    }
   ],
   "source": [
    "df_train[['Pclass', 'Survived']].groupby(['Pclass'], as_index=True).count() #Pclass는 1,2,3을 갖고있는데, 1, 2, 3은 Survived라는 값을 얼마나 갖고있는지. count는 말그대로 갯수를 말하는거기에 \"Pclass의 비율에 의존적임.\""
   ]
  },
  {
   "cell_type": "code",
   "execution_count": 20,
   "id": "56bb9938",
   "metadata": {
    "execution": {
     "iopub.execute_input": "2022-05-14T16:38:05.681822Z",
     "iopub.status.busy": "2022-05-14T16:38:05.681427Z",
     "iopub.status.idle": "2022-05-14T16:38:05.688726Z",
     "shell.execute_reply": "2022-05-14T16:38:05.687841Z"
    },
    "papermill": {
     "duration": 0.057261,
     "end_time": "2022-05-14T16:38:05.690636",
     "exception": false,
     "start_time": "2022-05-14T16:38:05.633375",
     "status": "completed"
    },
    "tags": []
   },
   "outputs": [
    {
     "data": {
      "text/plain": [
       "<pandas.core.groupby.generic.DataFrameGroupBy object at 0x7fac5c172590>"
      ]
     },
     "execution_count": 20,
     "metadata": {},
     "output_type": "execute_result"
    }
   ],
   "source": [
    "df_train[['Pclass', 'Survived']].groupby(['Pclass']) #Pclass에 대해 묶어준다. "
   ]
  },
  {
   "cell_type": "code",
   "execution_count": 21,
   "id": "f8c5d19e",
   "metadata": {
    "execution": {
     "iopub.execute_input": "2022-05-14T16:38:05.788480Z",
     "iopub.status.busy": "2022-05-14T16:38:05.787763Z",
     "iopub.status.idle": "2022-05-14T16:38:05.802676Z",
     "shell.execute_reply": "2022-05-14T16:38:05.801997Z"
    },
    "papermill": {
     "duration": 0.065922,
     "end_time": "2022-05-14T16:38:05.804714",
     "exception": false,
     "start_time": "2022-05-14T16:38:05.738792",
     "status": "completed"
    },
    "tags": []
   },
   "outputs": [
    {
     "data": {
      "text/html": [
       "<div>\n",
       "<style scoped>\n",
       "    .dataframe tbody tr th:only-of-type {\n",
       "        vertical-align: middle;\n",
       "    }\n",
       "\n",
       "    .dataframe tbody tr th {\n",
       "        vertical-align: top;\n",
       "    }\n",
       "\n",
       "    .dataframe thead th {\n",
       "        text-align: right;\n",
       "    }\n",
       "</style>\n",
       "<table border=\"1\" class=\"dataframe\">\n",
       "  <thead>\n",
       "    <tr style=\"text-align: right;\">\n",
       "      <th></th>\n",
       "      <th>Survived</th>\n",
       "    </tr>\n",
       "    <tr>\n",
       "      <th>Pclass</th>\n",
       "      <th></th>\n",
       "    </tr>\n",
       "  </thead>\n",
       "  <tbody>\n",
       "    <tr>\n",
       "      <th>1</th>\n",
       "      <td>136</td>\n",
       "    </tr>\n",
       "    <tr>\n",
       "      <th>2</th>\n",
       "      <td>87</td>\n",
       "    </tr>\n",
       "    <tr>\n",
       "      <th>3</th>\n",
       "      <td>119</td>\n",
       "    </tr>\n",
       "  </tbody>\n",
       "</table>\n",
       "</div>"
      ],
      "text/plain": [
       "        Survived\n",
       "Pclass          \n",
       "1            136\n",
       "2             87\n",
       "3            119"
      ]
     },
     "execution_count": 21,
     "metadata": {},
     "output_type": "execute_result"
    }
   ],
   "source": [
    "df_train[['Pclass', 'Survived']].groupby(['Pclass']).sum()"
   ]
  },
  {
   "cell_type": "code",
   "execution_count": 22,
   "id": "0856651e",
   "metadata": {
    "execution": {
     "iopub.execute_input": "2022-05-14T16:38:05.903160Z",
     "iopub.status.busy": "2022-05-14T16:38:05.902560Z",
     "iopub.status.idle": "2022-05-14T16:38:05.908705Z",
     "shell.execute_reply": "2022-05-14T16:38:05.907956Z"
    },
    "papermill": {
     "duration": 0.057418,
     "end_time": "2022-05-14T16:38:05.910950",
     "exception": false,
     "start_time": "2022-05-14T16:38:05.853532",
     "status": "completed"
    },
    "tags": []
   },
   "outputs": [
    {
     "data": {
      "text/plain": [
       "array([0, 1])"
      ]
     },
     "execution_count": 22,
     "metadata": {},
     "output_type": "execute_result"
    }
   ],
   "source": [
    "df_train['Survived'].unique() #Survived가 갖고있는 값들"
   ]
  },
  {
   "cell_type": "code",
   "execution_count": 23,
   "id": "6292686c",
   "metadata": {
    "execution": {
     "iopub.execute_input": "2022-05-14T16:38:06.008819Z",
     "iopub.status.busy": "2022-05-14T16:38:06.008235Z",
     "iopub.status.idle": "2022-05-14T16:38:06.123567Z",
     "shell.execute_reply": "2022-05-14T16:38:06.122713Z"
    },
    "papermill": {
     "duration": 0.166963,
     "end_time": "2022-05-14T16:38:06.125822",
     "exception": false,
     "start_time": "2022-05-14T16:38:05.958859",
     "status": "completed"
    },
    "tags": []
   },
   "outputs": [
    {
     "data": {
      "text/html": [
       "<style type=\"text/css\">\n",
       "#T_be96c_row0_col0, #T_be96c_row1_col1, #T_be96c_row1_col2 {\n",
       "  background-color: #008066;\n",
       "  color: #f1f1f1;\n",
       "}\n",
       "#T_be96c_row0_col1 {\n",
       "  background-color: #319866;\n",
       "  color: #f1f1f1;\n",
       "}\n",
       "#T_be96c_row0_col2 {\n",
       "  background-color: #0b8566;\n",
       "  color: #f1f1f1;\n",
       "}\n",
       "#T_be96c_row1_col0 {\n",
       "  background-color: #098466;\n",
       "  color: #f1f1f1;\n",
       "}\n",
       "#T_be96c_row2_col0 {\n",
       "  background-color: #9fcf66;\n",
       "  color: #000000;\n",
       "}\n",
       "#T_be96c_row2_col1 {\n",
       "  background-color: #209066;\n",
       "  color: #f1f1f1;\n",
       "}\n",
       "#T_be96c_row2_col2 {\n",
       "  background-color: #6fb766;\n",
       "  color: #f1f1f1;\n",
       "}\n",
       "#T_be96c_row3_col0, #T_be96c_row3_col1, #T_be96c_row3_col2 {\n",
       "  background-color: #ffff66;\n",
       "  color: #000000;\n",
       "}\n",
       "</style>\n",
       "<table id=\"T_be96c_\">\n",
       "  <thead>\n",
       "    <tr>\n",
       "      <th class=\"index_name level0\" >Survived</th>\n",
       "      <th class=\"col_heading level0 col0\" >0</th>\n",
       "      <th class=\"col_heading level0 col1\" >1</th>\n",
       "      <th class=\"col_heading level0 col2\" >All</th>\n",
       "    </tr>\n",
       "    <tr>\n",
       "      <th class=\"index_name level0\" >Pclass</th>\n",
       "      <th class=\"blank col0\" >&nbsp;</th>\n",
       "      <th class=\"blank col1\" >&nbsp;</th>\n",
       "      <th class=\"blank col2\" >&nbsp;</th>\n",
       "    </tr>\n",
       "  </thead>\n",
       "  <tbody>\n",
       "    <tr>\n",
       "      <th id=\"T_be96c_level0_row0\" class=\"row_heading level0 row0\" >1</th>\n",
       "      <td id=\"T_be96c_row0_col0\" class=\"data row0 col0\" >80</td>\n",
       "      <td id=\"T_be96c_row0_col1\" class=\"data row0 col1\" >136</td>\n",
       "      <td id=\"T_be96c_row0_col2\" class=\"data row0 col2\" >216</td>\n",
       "    </tr>\n",
       "    <tr>\n",
       "      <th id=\"T_be96c_level0_row1\" class=\"row_heading level0 row1\" >2</th>\n",
       "      <td id=\"T_be96c_row1_col0\" class=\"data row1 col0\" >97</td>\n",
       "      <td id=\"T_be96c_row1_col1\" class=\"data row1 col1\" >87</td>\n",
       "      <td id=\"T_be96c_row1_col2\" class=\"data row1 col2\" >184</td>\n",
       "    </tr>\n",
       "    <tr>\n",
       "      <th id=\"T_be96c_level0_row2\" class=\"row_heading level0 row2\" >3</th>\n",
       "      <td id=\"T_be96c_row2_col0\" class=\"data row2 col0\" >372</td>\n",
       "      <td id=\"T_be96c_row2_col1\" class=\"data row2 col1\" >119</td>\n",
       "      <td id=\"T_be96c_row2_col2\" class=\"data row2 col2\" >491</td>\n",
       "    </tr>\n",
       "    <tr>\n",
       "      <th id=\"T_be96c_level0_row3\" class=\"row_heading level0 row3\" >All</th>\n",
       "      <td id=\"T_be96c_row3_col0\" class=\"data row3 col0\" >549</td>\n",
       "      <td id=\"T_be96c_row3_col1\" class=\"data row3 col1\" >342</td>\n",
       "      <td id=\"T_be96c_row3_col2\" class=\"data row3 col2\" >891</td>\n",
       "    </tr>\n",
       "  </tbody>\n",
       "</table>\n"
      ],
      "text/plain": [
       "<pandas.io.formats.style.Styler at 0x7fac5c4663d0>"
      ]
     },
     "execution_count": 23,
     "metadata": {},
     "output_type": "execute_result"
    }
   ],
   "source": [
    "pd.crosstab(df_train['Pclass'], df_train['Survived'], margins=True).style.background_gradient(cmap='summer')"
   ]
  },
  {
   "cell_type": "code",
   "execution_count": 24,
   "id": "9c15a79b",
   "metadata": {
    "execution": {
     "iopub.execute_input": "2022-05-14T16:38:06.225213Z",
     "iopub.status.busy": "2022-05-14T16:38:06.224771Z",
     "iopub.status.idle": "2022-05-14T16:38:06.237607Z",
     "shell.execute_reply": "2022-05-14T16:38:06.236857Z"
    },
    "papermill": {
     "duration": 0.06445,
     "end_time": "2022-05-14T16:38:06.239568",
     "exception": false,
     "start_time": "2022-05-14T16:38:06.175118",
     "status": "completed"
    },
    "tags": []
   },
   "outputs": [
    {
     "data": {
      "text/html": [
       "<div>\n",
       "<style scoped>\n",
       "    .dataframe tbody tr th:only-of-type {\n",
       "        vertical-align: middle;\n",
       "    }\n",
       "\n",
       "    .dataframe tbody tr th {\n",
       "        vertical-align: top;\n",
       "    }\n",
       "\n",
       "    .dataframe thead th {\n",
       "        text-align: right;\n",
       "    }\n",
       "</style>\n",
       "<table border=\"1\" class=\"dataframe\">\n",
       "  <thead>\n",
       "    <tr style=\"text-align: right;\">\n",
       "      <th></th>\n",
       "      <th>Survived</th>\n",
       "    </tr>\n",
       "    <tr>\n",
       "      <th>Pclass</th>\n",
       "      <th></th>\n",
       "    </tr>\n",
       "  </thead>\n",
       "  <tbody>\n",
       "    <tr>\n",
       "      <th>1</th>\n",
       "      <td>0.629630</td>\n",
       "    </tr>\n",
       "    <tr>\n",
       "      <th>2</th>\n",
       "      <td>0.472826</td>\n",
       "    </tr>\n",
       "    <tr>\n",
       "      <th>3</th>\n",
       "      <td>0.242363</td>\n",
       "    </tr>\n",
       "  </tbody>\n",
       "</table>\n",
       "</div>"
      ],
      "text/plain": [
       "        Survived\n",
       "Pclass          \n",
       "1       0.629630\n",
       "2       0.472826\n",
       "3       0.242363"
      ]
     },
     "execution_count": 24,
     "metadata": {},
     "output_type": "execute_result"
    }
   ],
   "source": [
    "df_train[['Pclass', 'Survived']].groupby(['Pclass']).mean()"
   ]
  },
  {
   "cell_type": "code",
   "execution_count": 25,
   "id": "f77382df",
   "metadata": {
    "execution": {
     "iopub.execute_input": "2022-05-14T16:38:06.339776Z",
     "iopub.status.busy": "2022-05-14T16:38:06.339171Z",
     "iopub.status.idle": "2022-05-14T16:38:06.525982Z",
     "shell.execute_reply": "2022-05-14T16:38:06.525298Z"
    },
    "papermill": {
     "duration": 0.240867,
     "end_time": "2022-05-14T16:38:06.529834",
     "exception": false,
     "start_time": "2022-05-14T16:38:06.288967",
     "status": "completed"
    },
    "tags": []
   },
   "outputs": [
    {
     "data": {
      "text/plain": [
       "<AxesSubplot:xlabel='Pclass'>"
      ]
     },
     "execution_count": 25,
     "metadata": {},
     "output_type": "execute_result"
    },
    {
     "data": {
      "image/png": "[encoded data removed]",
      "text/plain": [
       "<Figure size 432x288 with 1 Axes>"
      ]
     },
     "metadata": {
      "needs_background": "light"
     },
     "output_type": "display_data"
    }
   ],
   "source": [
    "df_train[['Pclass', 'Survived']].groupby(['Pclass'], as_index=True).mean().sort_values(by='Survived', ascending=False).plot.bar() #내림차순으로 'Survived'에 대하여 정\n",
    "#여기서 해당평균이 생존률과 같음을 알수있다."
   ]
  },
  {
   "cell_type": "code",
   "execution_count": 26,
   "id": "e1fce459",
   "metadata": {
    "execution": {
     "iopub.execute_input": "2022-05-14T16:38:06.633343Z",
     "iopub.status.busy": "2022-05-14T16:38:06.633050Z",
     "iopub.status.idle": "2022-05-14T16:38:06.941672Z",
     "shell.execute_reply": "2022-05-14T16:38:06.941015Z"
    },
    "papermill": {
     "duration": 0.362245,
     "end_time": "2022-05-14T16:38:06.943739",
     "exception": false,
     "start_time": "2022-05-14T16:38:06.581494",
     "status": "completed"
    },
    "tags": []
   },
   "outputs": [
    {
     "data": {
      "image/png": "[encoded data removed]",
      "text/plain": [
       "<Figure size 1296x576 with 2 Axes>"
      ]
     },
     "metadata": {
      "needs_background": "light"
     },
     "output_type": "display_data"
    }
   ],
   "source": [
    "y_position = 1.02\n",
    "f, ax = plt.subplots(1, 2 ,figsize=(18, 8))\n",
    "df_train['Pclass'].value_counts().plot.bar(color=['#CD7F32', '#FFDF00', '#D3D3D3'], ax=ax[0])\n",
    "ax[0].set_title('Number of passengers By Pclass', y=y_position)\n",
    "ax[0].set_ylabel('Count')\n",
    "sns.countplot('Pclass', hue='Survived', data=df_train, ax=ax[1]) # = df_train[['Pclass', 'Survived']].groupby(['Pclass']) 이거랑 같음 (0번 차트는 총합, 2번차트는 SUrvived 0, 1을 각각 나눠서 보여주는 차트)\n",
    "ax[1].set_title('Pclass: Survived vs Dead', y=y_position)\n",
    "plt.show()"
   ]
  },
  {
   "cell_type": "markdown",
   "id": "4a6dca18",
   "metadata": {
    "papermill": {
     "duration": 0.051903,
     "end_time": "2022-05-14T16:38:07.047755",
     "exception": false,
     "start_time": "2022-05-14T16:38:06.995852",
     "status": "completed"
    },
    "tags": []
   },
   "source": [
    "# > ******결론: Class가 높을수록 생존률이 높다."
   ]
  },
  {
   "cell_type": "markdown",
   "id": "b16d866c",
   "metadata": {
    "papermill": {
     "duration": 0.051822,
     "end_time": "2022-05-14T16:38:07.152519",
     "exception": false,
     "start_time": "2022-05-14T16:38:07.100697",
     "status": "completed"
    },
    "tags": []
   },
   "source": []
  }
 ],
 "metadata": {
  "kernelspec": {
   "display_name": "Python 3",
   "language": "python",
   "name": "python3"
  },
  "language_info": {
   "codemirror_mode": {
    "name": "ipython",
    "version": 3
   },
   "file_extension": ".py",
   "mimetype": "text/x-python",
   "name": "python",
   "nbconvert_exporter": "python",
   "pygments_lexer": "ipython3",
   "version": "3.7.12"
  },
  "papermill": {
   "default_parameters": {},
   "duration": 18.285249,
   "end_time": "2022-05-14T16:38:08.027986",
   "environment_variables": {},
   "exception": null,
   "input_path": "__notebook__.ipynb",
   "output_path": "__notebook__.ipynb",
   "parameters": {},
   "start_time": "2022-05-14T16:37:49.742737",
   "version": "2.3.4"
  }
 },
 "nbformat": 4,
 "nbformat_minor": 5
}
